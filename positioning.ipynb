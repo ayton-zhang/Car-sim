{
 "cells": [
  {
   "cell_type": "code",
   "execution_count": 1,
   "metadata": {},
   "outputs": [],
   "source": [
    "# all imports\n",
    "import carla"
   ]
  },
  {
   "cell_type": "code",
   "execution_count": 2,
   "metadata": {},
   "outputs": [
    {
     "ename": "RuntimeError",
     "evalue": "time-out of 5000ms while waiting for the simulator, make sure the simulator is ready and connected to localhost:2000",
     "output_type": "error",
     "traceback": [
      "\u001b[1;31m---------------------------------------------------------------------------\u001b[0m",
      "\u001b[1;31mRuntimeError\u001b[0m                              Traceback (most recent call last)",
      "\u001b[1;32m~\\AppData\\Local\\Temp\\ipykernel_27544\\3057772489.py\u001b[0m in \u001b[0;36m<module>\u001b[1;34m\u001b[0m\n\u001b[0;32m      1\u001b[0m \u001b[0mclient\u001b[0m \u001b[1;33m=\u001b[0m \u001b[0mcarla\u001b[0m\u001b[1;33m.\u001b[0m\u001b[0mClient\u001b[0m\u001b[1;33m(\u001b[0m\u001b[1;34m'localhost'\u001b[0m\u001b[1;33m,\u001b[0m \u001b[1;36m2000\u001b[0m\u001b[1;33m)\u001b[0m\u001b[1;33m\u001b[0m\u001b[1;33m\u001b[0m\u001b[0m\n\u001b[0;32m      2\u001b[0m \u001b[1;33m\u001b[0m\u001b[0m\n\u001b[1;32m----> 3\u001b[1;33m \u001b[0mworld\u001b[0m \u001b[1;33m=\u001b[0m \u001b[0mclient\u001b[0m\u001b[1;33m.\u001b[0m\u001b[0mget_world\u001b[0m\u001b[1;33m(\u001b[0m\u001b[1;33m)\u001b[0m\u001b[1;33m\u001b[0m\u001b[1;33m\u001b[0m\u001b[0m\n\u001b[0m\u001b[0;32m      4\u001b[0m \u001b[0mspawn_points\u001b[0m \u001b[1;33m=\u001b[0m \u001b[0mworld\u001b[0m\u001b[1;33m.\u001b[0m\u001b[0mget_map\u001b[0m\u001b[1;33m(\u001b[0m\u001b[1;33m)\u001b[0m\u001b[1;33m.\u001b[0m\u001b[0mget_spawn_points\u001b[0m\u001b[1;33m(\u001b[0m\u001b[1;33m)\u001b[0m\u001b[1;33m\u001b[0m\u001b[1;33m\u001b[0m\u001b[0m\n\u001b[0;32m      5\u001b[0m \u001b[1;33m\u001b[0m\u001b[0m\n",
      "\u001b[1;31mRuntimeError\u001b[0m: time-out of 5000ms while waiting for the simulator, make sure the simulator is ready and connected to localhost:2000"
     ]
    }
   ],
   "source": [
    "client = carla.Client('localhost', 2000)\n",
    "\n",
    "world = client.get_world()\n",
    "spawn_points = world.get_map().get_spawn_points()\n",
    "\n",
    "vehicle_bp = world.get_blueprint_library().filter('vehicle.tesla.model3')[0]\n",
    "start_point = spawn_points[0]\n",
    "\n",
    "vehicle = world.try_spawn_actor(vehicle_bp, start_point)\n"
   ]
  },
  {
   "cell_type": "code",
   "execution_count": 6,
   "metadata": {},
   "outputs": [
    {
     "name": "stdout",
     "output_type": "stream",
     "text": [
      "[Actor(id=86, type=vehicle.tesla.model3)]\n"
     ]
    }
   ],
   "source": [
    "# Get all the vehicles in the world\n",
    "vehicles = world.get_actors().filter('vehicle.*')\n",
    "print(vehicles)"
   ]
  },
  {
   "cell_type": "code",
   "execution_count": 7,
   "metadata": {},
   "outputs": [
    {
     "name": "stdout",
     "output_type": "stream",
     "text": [
      "Transform(Location(x=-6.446170, y=-79.055023, z=0.267008), Rotation(pitch=0.000000, yaw=92.004189, roll=0.000000))\n"
     ]
    }
   ],
   "source": [
    "# get the vehicle position in the map\n",
    "vehicle_pos = vehicle.get_transform()\n",
    "print(vehicle_pos)"
   ]
  },
  {
   "cell_type": "code",
   "execution_count": 8,
   "metadata": {},
   "outputs": [
    {
     "name": "stdout",
     "output_type": "stream",
     "text": [
      "Transform(Location(x=-6.446170, y=-79.055023, z=0.275307), Rotation(pitch=0.000000, yaw=92.004189, roll=0.000000))\n"
     ]
    }
   ],
   "source": [
    "# show the start point\n",
    "print(start_point)"
   ]
  },
  {
   "cell_type": "code",
   "execution_count": 9,
   "metadata": {},
   "outputs": [],
   "source": [
    "# send vehicle off \n",
    "vehicle.set_autopilot(True)"
   ]
  },
  {
   "cell_type": "code",
   "execution_count": 10,
   "metadata": {},
   "outputs": [
    {
     "name": "stdout",
     "output_type": "stream",
     "text": [
      "Transform(Location(x=-6.446170, y=-79.055023, z=0.000280), Rotation(pitch=0.000000, yaw=92.004189, roll=0.000000))\n"
     ]
    }
   ],
   "source": [
    "# get actual position from the car moving \n",
    "vehicle_pos = vehicle.get_transform()\n",
    "print(vehicle_pos)"
   ]
  },
  {
   "cell_type": "code",
   "execution_count": 11,
   "metadata": {},
   "outputs": [
    {
     "name": "stdout",
     "output_type": "stream",
     "text": [
      "Vector3D(x=-0.000000, y=0.000000, z=0.010730)\n"
     ]
    }
   ],
   "source": [
    "# get the vehicle velocity\n",
    "vehicle_vel = vehicle.get_velocity()\n",
    "print(vehicle_vel)"
   ]
  },
  {
   "cell_type": "code",
   "execution_count": 12,
   "metadata": {},
   "outputs": [
    {
     "name": "stdout",
     "output_type": "stream",
     "text": [
      "Map(name=Town03)\n"
     ]
    }
   ],
   "source": [
    "# now look at the map\n",
    "town_map = world.get_map()\n",
    "print(town_map)"
   ]
  },
  {
   "cell_type": "code",
   "execution_count": 13,
   "metadata": {},
   "outputs": [
    {
     "data": {
      "text/plain": [
       "carla.libcarla.Map"
      ]
     },
     "execution_count": 13,
     "metadata": {},
     "output_type": "execute_result"
    }
   ],
   "source": [
    "type(town_map)"
   ]
  },
  {
   "cell_type": "code",
   "execution_count": 14,
   "metadata": {},
   "outputs": [],
   "source": [
    "roads = town_map.get_topology()"
   ]
  },
  {
   "cell_type": "code",
   "execution_count": 15,
   "metadata": {},
   "outputs": [
    {
     "name": "stdout",
     "output_type": "stream",
     "text": [
      "[(<carla.libcarla.Waypoint object at 0x00000199A0CF0B70>, <carla.libcarla.Waypoint object at 0x00000199A0CF0ED0>), (<carla.libcarla.Waypoint object at 0x00000199A0CF0810>, <carla.libcarla.Waypoint object at 0x00000199A0CF0930>), (<carla.libcarla.Waypoint object at 0x00000199A0CF0990>, <carla.libcarla.Waypoint object at 0x00000199A0CF07B0>), (<carla.libcarla.Waypoint object at 0x00000199A0CF0870>, <carla.libcarla.Waypoint object at 0x00000199A0CE4090>), (<carla.libcarla.Waypoint object at 0x00000199A0CE41B0>, <carla.libcarla.Waypoint object at 0x00000199A0CE40F0>), (<carla.libcarla.Waypoint object at 0x00000199A0CE4150>, <carla.libcarla.Waypoint object at 0x00000199A0CE4030>), (<carla.libcarla.Waypoint object at 0x000001999F0A9030>, <carla.libcarla.Waypoint object at 0x000001999F0A91B0>), (<carla.libcarla.Waypoint object at 0x000001999F09A570>, <carla.libcarla.Waypoint object at 0x000001999F09AF90>), (<carla.libcarla.Waypoint object at 0x000001999F09A510>, <carla.libcarla.Waypoint object at 0x000001999F09AED0>), (<carla.libcarla.Waypoint object at 0x000001999F09AF30>, <carla.libcarla.Waypoint object at 0x00000199A0C4AF30>), (<carla.libcarla.Waypoint object at 0x00000199A0C4AF90>, <carla.libcarla.Waypoint object at 0x00000199A0C4AED0>), (<carla.libcarla.Waypoint object at 0x00000199A0C4A930>, <carla.libcarla.Waypoint object at 0x00000199A0C4A9F0>), (<carla.libcarla.Waypoint object at 0x00000199A0C4A990>, <carla.libcarla.Waypoint object at 0x00000199A0CF1E10>), (<carla.libcarla.Waypoint object at 0x00000199A0CF1D50>, <carla.libcarla.Waypoint object at 0x00000199A0CF1B10>), (<carla.libcarla.Waypoint object at 0x00000199A0CF1DB0>, <carla.libcarla.Waypoint object at 0x00000199A0CF1CF0>), (<carla.libcarla.Waypoint object at 0x00000199A0CF1BD0>, <carla.libcarla.Waypoint object at 0x00000199A0CF1A50>), (<carla.libcarla.Waypoint object at 0x00000199A0CF18D0>, <carla.libcarla.Waypoint object at 0x00000199A0CF19F0>), (<carla.libcarla.Waypoint object at 0x00000199A0CF1AB0>, <carla.libcarla.Waypoint object at 0x00000199A0CF1930>), (<carla.libcarla.Waypoint object at 0x00000199A0CF1990>, <carla.libcarla.Waypoint object at 0x00000199A0CF1570>), (<carla.libcarla.Waypoint object at 0x00000199A0CF1750>, <carla.libcarla.Waypoint object at 0x00000199A0CF17B0>), (<carla.libcarla.Waypoint object at 0x00000199A0CF15D0>, <carla.libcarla.Waypoint object at 0x00000199A0CF12D0>), (<carla.libcarla.Waypoint object at 0x00000199A0CF1510>, <carla.libcarla.Waypoint object at 0x00000199A0CF1450>), (<carla.libcarla.Waypoint object at 0x00000199A0CF10F0>, <carla.libcarla.Waypoint object at 0x00000199A0CF11B0>), (<carla.libcarla.Waypoint object at 0x00000199A0CF1330>, <carla.libcarla.Waypoint object at 0x00000199A0CF1270>), (<carla.libcarla.Waypoint object at 0x00000199A0CF1150>, <carla.libcarla.Waypoint object at 0x00000199A0CF1030>), (<carla.libcarla.Waypoint object at 0x00000199A0CF1E70>, <carla.libcarla.Waypoint object at 0x00000199A0CF1ED0>), (<carla.libcarla.Waypoint object at 0x00000199A0CF1F30>, <carla.libcarla.Waypoint object at 0x00000199A0CF1F90>), (<carla.libcarla.Waypoint object at 0x00000199A0D02030>, <carla.libcarla.Waypoint object at 0x00000199A0D02090>), (<carla.libcarla.Waypoint object at 0x00000199A0D020F0>, <carla.libcarla.Waypoint object at 0x00000199A0D02150>), (<carla.libcarla.Waypoint object at 0x00000199A0D021B0>, <carla.libcarla.Waypoint object at 0x00000199A0D02210>), (<carla.libcarla.Waypoint object at 0x00000199A0D02270>, <carla.libcarla.Waypoint object at 0x00000199A0D022D0>), (<carla.libcarla.Waypoint object at 0x00000199A0D02330>, <carla.libcarla.Waypoint object at 0x00000199A0D02390>), (<carla.libcarla.Waypoint object at 0x00000199A0D023F0>, <carla.libcarla.Waypoint object at 0x00000199A0D02450>), (<carla.libcarla.Waypoint object at 0x00000199A0D024B0>, <carla.libcarla.Waypoint object at 0x00000199A0D02510>), (<carla.libcarla.Waypoint object at 0x00000199A0D02570>, <carla.libcarla.Waypoint object at 0x00000199A0D025D0>), (<carla.libcarla.Waypoint object at 0x00000199A0D02630>, <carla.libcarla.Waypoint object at 0x00000199A0D02690>), (<carla.libcarla.Waypoint object at 0x00000199A0D026F0>, <carla.libcarla.Waypoint object at 0x00000199A0D02750>), (<carla.libcarla.Waypoint object at 0x00000199A0D027B0>, <carla.libcarla.Waypoint object at 0x00000199A0D02810>), (<carla.libcarla.Waypoint object at 0x00000199A0D02870>, <carla.libcarla.Waypoint object at 0x00000199A0D028D0>), (<carla.libcarla.Waypoint object at 0x00000199A0D02930>, <carla.libcarla.Waypoint object at 0x00000199A0D02990>), (<carla.libcarla.Waypoint object at 0x00000199A0D029F0>, <carla.libcarla.Waypoint object at 0x00000199A0D02A50>), (<carla.libcarla.Waypoint object at 0x00000199A0D02AB0>, <carla.libcarla.Waypoint object at 0x00000199A0D02B10>), (<carla.libcarla.Waypoint object at 0x00000199A0D02B70>, <carla.libcarla.Waypoint object at 0x00000199A0D02BD0>), (<carla.libcarla.Waypoint object at 0x00000199A0D02C30>, <carla.libcarla.Waypoint object at 0x00000199A0D02C90>), (<carla.libcarla.Waypoint object at 0x00000199A0D02CF0>, <carla.libcarla.Waypoint object at 0x00000199A0D02D50>), (<carla.libcarla.Waypoint object at 0x00000199A0D02DB0>, <carla.libcarla.Waypoint object at 0x00000199A0D02E10>), (<carla.libcarla.Waypoint object at 0x00000199A0D02E70>, <carla.libcarla.Waypoint object at 0x00000199A0D02ED0>), (<carla.libcarla.Waypoint object at 0x00000199A0D02F30>, <carla.libcarla.Waypoint object at 0x00000199A0D02F90>), (<carla.libcarla.Waypoint object at 0x00000199A0D03030>, <carla.libcarla.Waypoint object at 0x00000199A0D03090>), (<carla.libcarla.Waypoint object at 0x00000199A0D030F0>, <carla.libcarla.Waypoint object at 0x00000199A0D03150>), (<carla.libcarla.Waypoint object at 0x00000199A0D031B0>, <carla.libcarla.Waypoint object at 0x00000199A0D03210>), (<carla.libcarla.Waypoint object at 0x00000199A0D03270>, <carla.libcarla.Waypoint object at 0x00000199A0D032D0>), (<carla.libcarla.Waypoint object at 0x00000199A0D03330>, <carla.libcarla.Waypoint object at 0x00000199A0D03390>), (<carla.libcarla.Waypoint object at 0x00000199A0D033F0>, <carla.libcarla.Waypoint object at 0x00000199A0D03450>), (<carla.libcarla.Waypoint object at 0x00000199A0D034B0>, <carla.libcarla.Waypoint object at 0x00000199A0D03510>), (<carla.libcarla.Waypoint object at 0x00000199A0D03570>, <carla.libcarla.Waypoint object at 0x00000199A0D035D0>), (<carla.libcarla.Waypoint object at 0x00000199A0D03630>, <carla.libcarla.Waypoint object at 0x00000199A0D03690>), (<carla.libcarla.Waypoint object at 0x00000199A0D036F0>, <carla.libcarla.Waypoint object at 0x00000199A0D03750>), (<carla.libcarla.Waypoint object at 0x00000199A0D037B0>, <carla.libcarla.Waypoint object at 0x00000199A0D03810>), (<carla.libcarla.Waypoint object at 0x00000199A0D03870>, <carla.libcarla.Waypoint object at 0x00000199A0D038D0>), (<carla.libcarla.Waypoint object at 0x00000199A0D03930>, <carla.libcarla.Waypoint object at 0x00000199A0D03990>), (<carla.libcarla.Waypoint object at 0x00000199A0D039F0>, <carla.libcarla.Waypoint object at 0x00000199A0D03A50>), (<carla.libcarla.Waypoint object at 0x00000199A0D03AB0>, <carla.libcarla.Waypoint object at 0x00000199A0D03B10>), (<carla.libcarla.Waypoint object at 0x00000199A0D03B70>, <carla.libcarla.Waypoint object at 0x00000199A0D03BD0>), (<carla.libcarla.Waypoint object at 0x00000199A0D03C30>, <carla.libcarla.Waypoint object at 0x00000199A0D03C90>), (<carla.libcarla.Waypoint object at 0x00000199A0D03CF0>, <carla.libcarla.Waypoint object at 0x00000199A0D03D50>), (<carla.libcarla.Waypoint object at 0x00000199A0D03DB0>, <carla.libcarla.Waypoint object at 0x00000199A0D03E10>), (<carla.libcarla.Waypoint object at 0x00000199A0D03E70>, <carla.libcarla.Waypoint object at 0x00000199A0D03ED0>), (<carla.libcarla.Waypoint object at 0x00000199A0D03F30>, <carla.libcarla.Waypoint object at 0x00000199A0D03F90>), (<carla.libcarla.Waypoint object at 0x00000199A0D04030>, <carla.libcarla.Waypoint object at 0x00000199A0D04090>), (<carla.libcarla.Waypoint object at 0x00000199A0D040F0>, <carla.libcarla.Waypoint object at 0x00000199A0D04150>), (<carla.libcarla.Waypoint object at 0x00000199A0D041B0>, <carla.libcarla.Waypoint object at 0x00000199A0D04210>), (<carla.libcarla.Waypoint object at 0x00000199A0D04270>, <carla.libcarla.Waypoint object at 0x00000199A0D042D0>), (<carla.libcarla.Waypoint object at 0x00000199A0D04330>, <carla.libcarla.Waypoint object at 0x00000199A0D04390>), (<carla.libcarla.Waypoint object at 0x00000199A0D043F0>, <carla.libcarla.Waypoint object at 0x00000199A0D04450>), (<carla.libcarla.Waypoint object at 0x00000199A0D044B0>, <carla.libcarla.Waypoint object at 0x00000199A0D04510>), (<carla.libcarla.Waypoint object at 0x00000199A0D04570>, <carla.libcarla.Waypoint object at 0x00000199A0D045D0>), (<carla.libcarla.Waypoint object at 0x00000199A0D04630>, <carla.libcarla.Waypoint object at 0x00000199A0D04690>), (<carla.libcarla.Waypoint object at 0x00000199A0D046F0>, <carla.libcarla.Waypoint object at 0x00000199A0D04750>), (<carla.libcarla.Waypoint object at 0x00000199A0D047B0>, <carla.libcarla.Waypoint object at 0x00000199A0D04810>), (<carla.libcarla.Waypoint object at 0x00000199A0D04870>, <carla.libcarla.Waypoint object at 0x00000199A0D048D0>), (<carla.libcarla.Waypoint object at 0x00000199A0D04930>, <carla.libcarla.Waypoint object at 0x00000199A0D04990>), (<carla.libcarla.Waypoint object at 0x00000199A0D049F0>, <carla.libcarla.Waypoint object at 0x00000199A0D04A50>), (<carla.libcarla.Waypoint object at 0x00000199A0D04AB0>, <carla.libcarla.Waypoint object at 0x00000199A0D04B10>), (<carla.libcarla.Waypoint object at 0x00000199A0D04B70>, <carla.libcarla.Waypoint object at 0x00000199A0D04BD0>), (<carla.libcarla.Waypoint object at 0x00000199A0D04C30>, <carla.libcarla.Waypoint object at 0x00000199A0D04C90>), (<carla.libcarla.Waypoint object at 0x00000199A0D04CF0>, <carla.libcarla.Waypoint object at 0x00000199A0D04D50>), (<carla.libcarla.Waypoint object at 0x00000199A0D04DB0>, <carla.libcarla.Waypoint object at 0x00000199A0D04E10>), (<carla.libcarla.Waypoint object at 0x00000199A0D04E70>, <carla.libcarla.Waypoint object at 0x00000199A0D04ED0>), (<carla.libcarla.Waypoint object at 0x00000199A0D04F30>, <carla.libcarla.Waypoint object at 0x00000199A0D04F90>), (<carla.libcarla.Waypoint object at 0x00000199A0D05030>, <carla.libcarla.Waypoint object at 0x00000199A0D05090>), (<carla.libcarla.Waypoint object at 0x00000199A0D050F0>, <carla.libcarla.Waypoint object at 0x00000199A0D05150>), (<carla.libcarla.Waypoint object at 0x00000199A0D051B0>, <carla.libcarla.Waypoint object at 0x00000199A0D05210>), (<carla.libcarla.Waypoint object at 0x00000199A0D05270>, <carla.libcarla.Waypoint object at 0x00000199A0D052D0>), (<carla.libcarla.Waypoint object at 0x00000199A0D05330>, <carla.libcarla.Waypoint object at 0x00000199A0D05390>), (<carla.libcarla.Waypoint object at 0x00000199A0D053F0>, <carla.libcarla.Waypoint object at 0x00000199A0D05450>), (<carla.libcarla.Waypoint object at 0x00000199A0D054B0>, <carla.libcarla.Waypoint object at 0x00000199A0D05510>), (<carla.libcarla.Waypoint object at 0x00000199A0D05570>, <carla.libcarla.Waypoint object at 0x00000199A0D055D0>), (<carla.libcarla.Waypoint object at 0x00000199A0D05630>, <carla.libcarla.Waypoint object at 0x00000199A0D05690>), (<carla.libcarla.Waypoint object at 0x00000199A0D056F0>, <carla.libcarla.Waypoint object at 0x00000199A0D05750>), (<carla.libcarla.Waypoint object at 0x00000199A0D057B0>, <carla.libcarla.Waypoint object at 0x00000199A0D05810>), (<carla.libcarla.Waypoint object at 0x00000199A0D05870>, <carla.libcarla.Waypoint object at 0x00000199A0D058D0>), (<carla.libcarla.Waypoint object at 0x00000199A0D05930>, <carla.libcarla.Waypoint object at 0x00000199A0D05990>), (<carla.libcarla.Waypoint object at 0x00000199A0D059F0>, <carla.libcarla.Waypoint object at 0x00000199A0D05A50>), (<carla.libcarla.Waypoint object at 0x00000199A0D05AB0>, <carla.libcarla.Waypoint object at 0x00000199A0D05B10>), (<carla.libcarla.Waypoint object at 0x00000199A0D05B70>, <carla.libcarla.Waypoint object at 0x00000199A0D05BD0>), (<carla.libcarla.Waypoint object at 0x00000199A0D05C30>, <carla.libcarla.Waypoint object at 0x00000199A0D05C90>), (<carla.libcarla.Waypoint object at 0x00000199A0D05CF0>, <carla.libcarla.Waypoint object at 0x00000199A0D05D50>), (<carla.libcarla.Waypoint object at 0x00000199A0D05DB0>, <carla.libcarla.Waypoint object at 0x00000199A0D05E10>), (<carla.libcarla.Waypoint object at 0x00000199A0D05E70>, <carla.libcarla.Waypoint object at 0x00000199A0D05ED0>), (<carla.libcarla.Waypoint object at 0x00000199A0D05F30>, <carla.libcarla.Waypoint object at 0x00000199A0D05F90>), (<carla.libcarla.Waypoint object at 0x00000199A0D06030>, <carla.libcarla.Waypoint object at 0x00000199A0D06090>), (<carla.libcarla.Waypoint object at 0x00000199A0D060F0>, <carla.libcarla.Waypoint object at 0x00000199A0D06150>), (<carla.libcarla.Waypoint object at 0x00000199A0D061B0>, <carla.libcarla.Waypoint object at 0x00000199A0D06210>), (<carla.libcarla.Waypoint object at 0x00000199A0D06270>, <carla.libcarla.Waypoint object at 0x00000199A0D062D0>), (<carla.libcarla.Waypoint object at 0x00000199A0D06330>, <carla.libcarla.Waypoint object at 0x00000199A0D06390>), (<carla.libcarla.Waypoint object at 0x00000199A0D063F0>, <carla.libcarla.Waypoint object at 0x00000199A0D06450>), (<carla.libcarla.Waypoint object at 0x00000199A0D064B0>, <carla.libcarla.Waypoint object at 0x00000199A0D06510>), (<carla.libcarla.Waypoint object at 0x00000199A0D06570>, <carla.libcarla.Waypoint object at 0x00000199A0D065D0>), (<carla.libcarla.Waypoint object at 0x00000199A0D06630>, <carla.libcarla.Waypoint object at 0x00000199A0D06690>), (<carla.libcarla.Waypoint object at 0x00000199A0D066F0>, <carla.libcarla.Waypoint object at 0x00000199A0D06750>), (<carla.libcarla.Waypoint object at 0x00000199A0D067B0>, <carla.libcarla.Waypoint object at 0x00000199A0D06810>), (<carla.libcarla.Waypoint object at 0x00000199A0D06870>, <carla.libcarla.Waypoint object at 0x00000199A0D068D0>), (<carla.libcarla.Waypoint object at 0x00000199A0D06930>, <carla.libcarla.Waypoint object at 0x00000199A0D06990>), (<carla.libcarla.Waypoint object at 0x00000199A0D069F0>, <carla.libcarla.Waypoint object at 0x00000199A0D06A50>), (<carla.libcarla.Waypoint object at 0x00000199A0D06AB0>, <carla.libcarla.Waypoint object at 0x00000199A0D06B10>), (<carla.libcarla.Waypoint object at 0x00000199A0D06B70>, <carla.libcarla.Waypoint object at 0x00000199A0D06BD0>), (<carla.libcarla.Waypoint object at 0x00000199A0D06C30>, <carla.libcarla.Waypoint object at 0x00000199A0D06C90>), (<carla.libcarla.Waypoint object at 0x00000199A0D06CF0>, <carla.libcarla.Waypoint object at 0x00000199A0D06D50>), (<carla.libcarla.Waypoint object at 0x00000199A0D06DB0>, <carla.libcarla.Waypoint object at 0x00000199A0D06E10>), (<carla.libcarla.Waypoint object at 0x00000199A0D06E70>, <carla.libcarla.Waypoint object at 0x00000199A0D06ED0>), (<carla.libcarla.Waypoint object at 0x00000199A0D06F30>, <carla.libcarla.Waypoint object at 0x00000199A0D06F90>), (<carla.libcarla.Waypoint object at 0x00000199A0D07030>, <carla.libcarla.Waypoint object at 0x00000199A0D07090>), (<carla.libcarla.Waypoint object at 0x00000199A0D070F0>, <carla.libcarla.Waypoint object at 0x00000199A0D07150>), (<carla.libcarla.Waypoint object at 0x00000199A0D071B0>, <carla.libcarla.Waypoint object at 0x00000199A0D07210>), (<carla.libcarla.Waypoint object at 0x00000199A0D07270>, <carla.libcarla.Waypoint object at 0x00000199A0D072D0>), (<carla.libcarla.Waypoint object at 0x00000199A0D07330>, <carla.libcarla.Waypoint object at 0x00000199A0D07390>), (<carla.libcarla.Waypoint object at 0x00000199A0D073F0>, <carla.libcarla.Waypoint object at 0x00000199A0D07450>), (<carla.libcarla.Waypoint object at 0x00000199A0D074B0>, <carla.libcarla.Waypoint object at 0x00000199A0D07510>), (<carla.libcarla.Waypoint object at 0x00000199A0D07570>, <carla.libcarla.Waypoint object at 0x00000199A0D075D0>), (<carla.libcarla.Waypoint object at 0x00000199A0D07630>, <carla.libcarla.Waypoint object at 0x00000199A0D07690>), (<carla.libcarla.Waypoint object at 0x00000199A0D076F0>, <carla.libcarla.Waypoint object at 0x00000199A0D07750>), (<carla.libcarla.Waypoint object at 0x00000199A0D077B0>, <carla.libcarla.Waypoint object at 0x00000199A0D07810>), (<carla.libcarla.Waypoint object at 0x00000199A0D07870>, <carla.libcarla.Waypoint object at 0x00000199A0D078D0>), (<carla.libcarla.Waypoint object at 0x00000199A0D07930>, <carla.libcarla.Waypoint object at 0x00000199A0D07990>), (<carla.libcarla.Waypoint object at 0x00000199A0D079F0>, <carla.libcarla.Waypoint object at 0x00000199A0D07A50>), (<carla.libcarla.Waypoint object at 0x00000199A0D07AB0>, <carla.libcarla.Waypoint object at 0x00000199A0D07B10>), (<carla.libcarla.Waypoint object at 0x00000199A0D07B70>, <carla.libcarla.Waypoint object at 0x00000199A0D07BD0>), (<carla.libcarla.Waypoint object at 0x00000199A0D07C30>, <carla.libcarla.Waypoint object at 0x00000199A0D07C90>), (<carla.libcarla.Waypoint object at 0x00000199A0D07CF0>, <carla.libcarla.Waypoint object at 0x00000199A0D07D50>), (<carla.libcarla.Waypoint object at 0x00000199A0D07DB0>, <carla.libcarla.Waypoint object at 0x00000199A0D07E10>), (<carla.libcarla.Waypoint object at 0x00000199A0D07E70>, <carla.libcarla.Waypoint object at 0x00000199A0D07ED0>), (<carla.libcarla.Waypoint object at 0x00000199A0D07F30>, <carla.libcarla.Waypoint object at 0x00000199A0D07F90>), (<carla.libcarla.Waypoint object at 0x00000199A0D08030>, <carla.libcarla.Waypoint object at 0x00000199A0D08090>), (<carla.libcarla.Waypoint object at 0x00000199A0D080F0>, <carla.libcarla.Waypoint object at 0x00000199A0D08150>), (<carla.libcarla.Waypoint object at 0x00000199A0D081B0>, <carla.libcarla.Waypoint object at 0x00000199A0D08210>), (<carla.libcarla.Waypoint object at 0x00000199A0D08270>, <carla.libcarla.Waypoint object at 0x00000199A0D082D0>), (<carla.libcarla.Waypoint object at 0x00000199A0D08330>, <carla.libcarla.Waypoint object at 0x00000199A0D08390>), (<carla.libcarla.Waypoint object at 0x00000199A0D083F0>, <carla.libcarla.Waypoint object at 0x00000199A0D08450>), (<carla.libcarla.Waypoint object at 0x00000199A0D084B0>, <carla.libcarla.Waypoint object at 0x00000199A0D08510>), (<carla.libcarla.Waypoint object at 0x00000199A0D08570>, <carla.libcarla.Waypoint object at 0x00000199A0D085D0>), (<carla.libcarla.Waypoint object at 0x00000199A0D08630>, <carla.libcarla.Waypoint object at 0x00000199A0D08690>), (<carla.libcarla.Waypoint object at 0x00000199A0D086F0>, <carla.libcarla.Waypoint object at 0x00000199A0D08750>), (<carla.libcarla.Waypoint object at 0x00000199A0D087B0>, <carla.libcarla.Waypoint object at 0x00000199A0D08810>), (<carla.libcarla.Waypoint object at 0x00000199A0D08870>, <carla.libcarla.Waypoint object at 0x00000199A0D088D0>), (<carla.libcarla.Waypoint object at 0x00000199A0D08930>, <carla.libcarla.Waypoint object at 0x00000199A0D08990>), (<carla.libcarla.Waypoint object at 0x00000199A0D089F0>, <carla.libcarla.Waypoint object at 0x00000199A0D08A50>), (<carla.libcarla.Waypoint object at 0x00000199A0D08AB0>, <carla.libcarla.Waypoint object at 0x00000199A0D08B10>), (<carla.libcarla.Waypoint object at 0x00000199A0D08B70>, <carla.libcarla.Waypoint object at 0x00000199A0D08BD0>), (<carla.libcarla.Waypoint object at 0x00000199A0D08C30>, <carla.libcarla.Waypoint object at 0x00000199A0D08C90>), (<carla.libcarla.Waypoint object at 0x00000199A0D08CF0>, <carla.libcarla.Waypoint object at 0x00000199A0D08D50>), (<carla.libcarla.Waypoint object at 0x00000199A0D08DB0>, <carla.libcarla.Waypoint object at 0x00000199A0D08E10>), (<carla.libcarla.Waypoint object at 0x00000199A0D08E70>, <carla.libcarla.Waypoint object at 0x00000199A0D08ED0>), (<carla.libcarla.Waypoint object at 0x00000199A0D08F30>, <carla.libcarla.Waypoint object at 0x00000199A0D08F90>), (<carla.libcarla.Waypoint object at 0x00000199A0D09030>, <carla.libcarla.Waypoint object at 0x00000199A0D09090>), (<carla.libcarla.Waypoint object at 0x00000199A0D090F0>, <carla.libcarla.Waypoint object at 0x00000199A0D09150>), (<carla.libcarla.Waypoint object at 0x00000199A0D091B0>, <carla.libcarla.Waypoint object at 0x00000199A0D09210>), (<carla.libcarla.Waypoint object at 0x00000199A0D09270>, <carla.libcarla.Waypoint object at 0x00000199A0D092D0>), (<carla.libcarla.Waypoint object at 0x00000199A0D09330>, <carla.libcarla.Waypoint object at 0x00000199A0D09390>), (<carla.libcarla.Waypoint object at 0x00000199A0D093F0>, <carla.libcarla.Waypoint object at 0x00000199A0D09450>), (<carla.libcarla.Waypoint object at 0x00000199A0D094B0>, <carla.libcarla.Waypoint object at 0x00000199A0D09510>), (<carla.libcarla.Waypoint object at 0x00000199A0D09570>, <carla.libcarla.Waypoint object at 0x00000199A0D095D0>), (<carla.libcarla.Waypoint object at 0x00000199A0D09630>, <carla.libcarla.Waypoint object at 0x00000199A0D09690>), (<carla.libcarla.Waypoint object at 0x00000199A0D096F0>, <carla.libcarla.Waypoint object at 0x00000199A0D09750>), (<carla.libcarla.Waypoint object at 0x00000199A0D097B0>, <carla.libcarla.Waypoint object at 0x00000199A0D09810>), (<carla.libcarla.Waypoint object at 0x00000199A0D09870>, <carla.libcarla.Waypoint object at 0x00000199A0D098D0>), (<carla.libcarla.Waypoint object at 0x00000199A0D09930>, <carla.libcarla.Waypoint object at 0x00000199A0D09990>), (<carla.libcarla.Waypoint object at 0x00000199A0D099F0>, <carla.libcarla.Waypoint object at 0x00000199A0D09A50>), (<carla.libcarla.Waypoint object at 0x00000199A0D09AB0>, <carla.libcarla.Waypoint object at 0x00000199A0D09B10>), (<carla.libcarla.Waypoint object at 0x00000199A0D09B70>, <carla.libcarla.Waypoint object at 0x00000199A0D09BD0>), (<carla.libcarla.Waypoint object at 0x00000199A0D09C30>, <carla.libcarla.Waypoint object at 0x00000199A0D09C90>), (<carla.libcarla.Waypoint object at 0x00000199A0D09CF0>, <carla.libcarla.Waypoint object at 0x00000199A0D09D50>), (<carla.libcarla.Waypoint object at 0x00000199A0D09DB0>, <carla.libcarla.Waypoint object at 0x00000199A0D09E10>), (<carla.libcarla.Waypoint object at 0x00000199A0D09E70>, <carla.libcarla.Waypoint object at 0x00000199A0D09ED0>), (<carla.libcarla.Waypoint object at 0x00000199A0D09F30>, <carla.libcarla.Waypoint object at 0x00000199A0D09F90>), (<carla.libcarla.Waypoint object at 0x00000199A0D0A030>, <carla.libcarla.Waypoint object at 0x00000199A0D0A090>), (<carla.libcarla.Waypoint object at 0x00000199A0D0A0F0>, <carla.libcarla.Waypoint object at 0x00000199A0D0A150>), (<carla.libcarla.Waypoint object at 0x00000199A0D0A1B0>, <carla.libcarla.Waypoint object at 0x00000199A0D0A210>), (<carla.libcarla.Waypoint object at 0x00000199A0D0A270>, <carla.libcarla.Waypoint object at 0x00000199A0D0A2D0>), (<carla.libcarla.Waypoint object at 0x00000199A0D0A330>, <carla.libcarla.Waypoint object at 0x00000199A0D0A390>), (<carla.libcarla.Waypoint object at 0x00000199A0D0A3F0>, <carla.libcarla.Waypoint object at 0x00000199A0D0A450>), (<carla.libcarla.Waypoint object at 0x00000199A0D0A4B0>, <carla.libcarla.Waypoint object at 0x00000199A0D0A510>), (<carla.libcarla.Waypoint object at 0x00000199A0D0A570>, <carla.libcarla.Waypoint object at 0x00000199A0D0A5D0>), (<carla.libcarla.Waypoint object at 0x00000199A0D0A630>, <carla.libcarla.Waypoint object at 0x00000199A0D0A690>), (<carla.libcarla.Waypoint object at 0x00000199A0D0A6F0>, <carla.libcarla.Waypoint object at 0x00000199A0D0A750>), (<carla.libcarla.Waypoint object at 0x00000199A0D0A7B0>, <carla.libcarla.Waypoint object at 0x00000199A0D0A810>), (<carla.libcarla.Waypoint object at 0x00000199A0D0A870>, <carla.libcarla.Waypoint object at 0x00000199A0D0A8D0>), (<carla.libcarla.Waypoint object at 0x00000199A0D0A930>, <carla.libcarla.Waypoint object at 0x00000199A0D0A990>), (<carla.libcarla.Waypoint object at 0x00000199A0D0A9F0>, <carla.libcarla.Waypoint object at 0x00000199A0D0AA50>), (<carla.libcarla.Waypoint object at 0x00000199A0D0AAB0>, <carla.libcarla.Waypoint object at 0x00000199A0D0AB10>), (<carla.libcarla.Waypoint object at 0x00000199A0D0AB70>, <carla.libcarla.Waypoint object at 0x00000199A0D0ABD0>), (<carla.libcarla.Waypoint object at 0x00000199A0D0AC30>, <carla.libcarla.Waypoint object at 0x00000199A0D0AC90>), (<carla.libcarla.Waypoint object at 0x00000199A0D0ACF0>, <carla.libcarla.Waypoint object at 0x00000199A0D0AD50>), (<carla.libcarla.Waypoint object at 0x00000199A0D0ADB0>, <carla.libcarla.Waypoint object at 0x00000199A0D0AE10>), (<carla.libcarla.Waypoint object at 0x00000199A0D0AE70>, <carla.libcarla.Waypoint object at 0x00000199A0D0AED0>), (<carla.libcarla.Waypoint object at 0x00000199A0D0AF30>, <carla.libcarla.Waypoint object at 0x00000199A0D0AF90>), (<carla.libcarla.Waypoint object at 0x00000199A0D0B030>, <carla.libcarla.Waypoint object at 0x00000199A0D0B090>), (<carla.libcarla.Waypoint object at 0x00000199A0D0B0F0>, <carla.libcarla.Waypoint object at 0x00000199A0D0B150>), (<carla.libcarla.Waypoint object at 0x00000199A0D0B1B0>, <carla.libcarla.Waypoint object at 0x00000199A0D0B210>), (<carla.libcarla.Waypoint object at 0x00000199A0D0B270>, <carla.libcarla.Waypoint object at 0x00000199A0D0B2D0>), (<carla.libcarla.Waypoint object at 0x00000199A0D0B330>, <carla.libcarla.Waypoint object at 0x00000199A0D0B390>), (<carla.libcarla.Waypoint object at 0x00000199A0D0B3F0>, <carla.libcarla.Waypoint object at 0x00000199A0D0B450>), (<carla.libcarla.Waypoint object at 0x00000199A0D0B4B0>, <carla.libcarla.Waypoint object at 0x00000199A0D0B510>), (<carla.libcarla.Waypoint object at 0x00000199A0D0B570>, <carla.libcarla.Waypoint object at 0x00000199A0D0B5D0>), (<carla.libcarla.Waypoint object at 0x00000199A0D0B630>, <carla.libcarla.Waypoint object at 0x00000199A0D0B690>), (<carla.libcarla.Waypoint object at 0x00000199A0D0B6F0>, <carla.libcarla.Waypoint object at 0x00000199A0D0B750>), (<carla.libcarla.Waypoint object at 0x00000199A0D0B7B0>, <carla.libcarla.Waypoint object at 0x00000199A0D0B810>), (<carla.libcarla.Waypoint object at 0x00000199A0D0B870>, <carla.libcarla.Waypoint object at 0x00000199A0D0B8D0>), (<carla.libcarla.Waypoint object at 0x00000199A0D0B930>, <carla.libcarla.Waypoint object at 0x00000199A0D0B990>), (<carla.libcarla.Waypoint object at 0x00000199A0D0B9F0>, <carla.libcarla.Waypoint object at 0x00000199A0D0BA50>), (<carla.libcarla.Waypoint object at 0x00000199A0D0BAB0>, <carla.libcarla.Waypoint object at 0x00000199A0D0BB10>), (<carla.libcarla.Waypoint object at 0x00000199A0D0BB70>, <carla.libcarla.Waypoint object at 0x00000199A0D0BBD0>), (<carla.libcarla.Waypoint object at 0x00000199A0D0BC30>, <carla.libcarla.Waypoint object at 0x00000199A0D0BC90>), (<carla.libcarla.Waypoint object at 0x00000199A0D0BCF0>, <carla.libcarla.Waypoint object at 0x00000199A0D0BD50>), (<carla.libcarla.Waypoint object at 0x00000199A0D0BDB0>, <carla.libcarla.Waypoint object at 0x00000199A0D0BE10>), (<carla.libcarla.Waypoint object at 0x00000199A0D0BE70>, <carla.libcarla.Waypoint object at 0x00000199A0D0BED0>), (<carla.libcarla.Waypoint object at 0x00000199A0D0BF30>, <carla.libcarla.Waypoint object at 0x00000199A0D0BF90>), (<carla.libcarla.Waypoint object at 0x00000199A0D0C030>, <carla.libcarla.Waypoint object at 0x00000199A0D0C090>), (<carla.libcarla.Waypoint object at 0x00000199A0D0C0F0>, <carla.libcarla.Waypoint object at 0x00000199A0D0C150>), (<carla.libcarla.Waypoint object at 0x00000199A0D0C1B0>, <carla.libcarla.Waypoint object at 0x00000199A0D0C210>), (<carla.libcarla.Waypoint object at 0x00000199A0D0C270>, <carla.libcarla.Waypoint object at 0x00000199A0D0C2D0>), (<carla.libcarla.Waypoint object at 0x00000199A0D0C330>, <carla.libcarla.Waypoint object at 0x00000199A0D0C390>), (<carla.libcarla.Waypoint object at 0x00000199A0D0C3F0>, <carla.libcarla.Waypoint object at 0x00000199A0D0C450>), (<carla.libcarla.Waypoint object at 0x00000199A0D0C4B0>, <carla.libcarla.Waypoint object at 0x00000199A0D0C510>), (<carla.libcarla.Waypoint object at 0x00000199A0D0C570>, <carla.libcarla.Waypoint object at 0x00000199A0D0C5D0>), (<carla.libcarla.Waypoint object at 0x00000199A0D0C630>, <carla.libcarla.Waypoint object at 0x00000199A0D0C690>), (<carla.libcarla.Waypoint object at 0x00000199A0D0C6F0>, <carla.libcarla.Waypoint object at 0x00000199A0D0C750>), (<carla.libcarla.Waypoint object at 0x00000199A0D0C7B0>, <carla.libcarla.Waypoint object at 0x00000199A0D0C810>), (<carla.libcarla.Waypoint object at 0x00000199A0D0C870>, <carla.libcarla.Waypoint object at 0x00000199A0D0C8D0>), (<carla.libcarla.Waypoint object at 0x00000199A0D0C930>, <carla.libcarla.Waypoint object at 0x00000199A0D0C990>), (<carla.libcarla.Waypoint object at 0x00000199A0D0C9F0>, <carla.libcarla.Waypoint object at 0x00000199A0D0CA50>), (<carla.libcarla.Waypoint object at 0x00000199A0D0CAB0>, <carla.libcarla.Waypoint object at 0x00000199A0D0CB10>), (<carla.libcarla.Waypoint object at 0x00000199A0D0CB70>, <carla.libcarla.Waypoint object at 0x00000199A0D0CBD0>), (<carla.libcarla.Waypoint object at 0x00000199A0D0CC30>, <carla.libcarla.Waypoint object at 0x00000199A0D0CC90>), (<carla.libcarla.Waypoint object at 0x00000199A0D0CCF0>, <carla.libcarla.Waypoint object at 0x00000199A0D0CD50>), (<carla.libcarla.Waypoint object at 0x00000199A0D0CDB0>, <carla.libcarla.Waypoint object at 0x00000199A0D0CE10>), (<carla.libcarla.Waypoint object at 0x00000199A0D0CE70>, <carla.libcarla.Waypoint object at 0x00000199A0D0CED0>), (<carla.libcarla.Waypoint object at 0x00000199A0D0CF30>, <carla.libcarla.Waypoint object at 0x00000199A0D0CF90>), (<carla.libcarla.Waypoint object at 0x00000199A0D0D030>, <carla.libcarla.Waypoint object at 0x00000199A0D0D090>), (<carla.libcarla.Waypoint object at 0x00000199A0D0D0F0>, <carla.libcarla.Waypoint object at 0x00000199A0D0D150>), (<carla.libcarla.Waypoint object at 0x00000199A0D0D1B0>, <carla.libcarla.Waypoint object at 0x00000199A0D0D210>), (<carla.libcarla.Waypoint object at 0x00000199A0D0D270>, <carla.libcarla.Waypoint object at 0x00000199A0D0D2D0>), (<carla.libcarla.Waypoint object at 0x00000199A0D0D330>, <carla.libcarla.Waypoint object at 0x00000199A0D0D390>), (<carla.libcarla.Waypoint object at 0x00000199A0D0D3F0>, <carla.libcarla.Waypoint object at 0x00000199A0D0D450>), (<carla.libcarla.Waypoint object at 0x00000199A0D0D4B0>, <carla.libcarla.Waypoint object at 0x00000199A0D0D510>), (<carla.libcarla.Waypoint object at 0x00000199A0D0D570>, <carla.libcarla.Waypoint object at 0x00000199A0D0D5D0>), (<carla.libcarla.Waypoint object at 0x00000199A0D0D630>, <carla.libcarla.Waypoint object at 0x00000199A0D0D690>), (<carla.libcarla.Waypoint object at 0x00000199A0D0D6F0>, <carla.libcarla.Waypoint object at 0x00000199A0D0D750>), (<carla.libcarla.Waypoint object at 0x00000199A0D0D7B0>, <carla.libcarla.Waypoint object at 0x00000199A0D0D810>), (<carla.libcarla.Waypoint object at 0x00000199A0D0D870>, <carla.libcarla.Waypoint object at 0x00000199A0D0D8D0>), (<carla.libcarla.Waypoint object at 0x00000199A0D0D930>, <carla.libcarla.Waypoint object at 0x00000199A0D0D990>), (<carla.libcarla.Waypoint object at 0x00000199A0D0D9F0>, <carla.libcarla.Waypoint object at 0x00000199A0D0DA50>), (<carla.libcarla.Waypoint object at 0x00000199A0D0DAB0>, <carla.libcarla.Waypoint object at 0x00000199A0D0DB10>), (<carla.libcarla.Waypoint object at 0x00000199A0D0DB70>, <carla.libcarla.Waypoint object at 0x00000199A0D0DBD0>), (<carla.libcarla.Waypoint object at 0x00000199A0D0DC30>, <carla.libcarla.Waypoint object at 0x00000199A0D0DC90>), (<carla.libcarla.Waypoint object at 0x00000199A0D0DCF0>, <carla.libcarla.Waypoint object at 0x00000199A0D0DD50>), (<carla.libcarla.Waypoint object at 0x00000199A0D0DDB0>, <carla.libcarla.Waypoint object at 0x00000199A0D0DE10>), (<carla.libcarla.Waypoint object at 0x00000199A0D0DE70>, <carla.libcarla.Waypoint object at 0x00000199A0D0DED0>), (<carla.libcarla.Waypoint object at 0x00000199A0D0DF30>, <carla.libcarla.Waypoint object at 0x00000199A0D0DF90>), (<carla.libcarla.Waypoint object at 0x00000199A0D0E030>, <carla.libcarla.Waypoint object at 0x00000199A0D0E090>), (<carla.libcarla.Waypoint object at 0x00000199A0D0E0F0>, <carla.libcarla.Waypoint object at 0x00000199A0D0E150>), (<carla.libcarla.Waypoint object at 0x00000199A0D0E1B0>, <carla.libcarla.Waypoint object at 0x00000199A0D0E210>), (<carla.libcarla.Waypoint object at 0x00000199A0D0E270>, <carla.libcarla.Waypoint object at 0x00000199A0D0E2D0>), (<carla.libcarla.Waypoint object at 0x00000199A0D0E330>, <carla.libcarla.Waypoint object at 0x00000199A0D0E390>), (<carla.libcarla.Waypoint object at 0x00000199A0D0E3F0>, <carla.libcarla.Waypoint object at 0x00000199A0D0E450>), (<carla.libcarla.Waypoint object at 0x00000199A0D0E4B0>, <carla.libcarla.Waypoint object at 0x00000199A0D0E510>), (<carla.libcarla.Waypoint object at 0x00000199A0D0E570>, <carla.libcarla.Waypoint object at 0x00000199A0D0E5D0>), (<carla.libcarla.Waypoint object at 0x00000199A0D0E630>, <carla.libcarla.Waypoint object at 0x00000199A0D0E690>), (<carla.libcarla.Waypoint object at 0x00000199A0D0E6F0>, <carla.libcarla.Waypoint object at 0x00000199A0D0E750>), (<carla.libcarla.Waypoint object at 0x00000199A0D0E7B0>, <carla.libcarla.Waypoint object at 0x00000199A0D0E810>), (<carla.libcarla.Waypoint object at 0x00000199A0D0E870>, <carla.libcarla.Waypoint object at 0x00000199A0D0E8D0>), (<carla.libcarla.Waypoint object at 0x00000199A0D0E930>, <carla.libcarla.Waypoint object at 0x00000199A0D0E990>), (<carla.libcarla.Waypoint object at 0x00000199A0D0E9F0>, <carla.libcarla.Waypoint object at 0x00000199A0D0EA50>), (<carla.libcarla.Waypoint object at 0x00000199A0D0EAB0>, <carla.libcarla.Waypoint object at 0x00000199A0D0EB10>), (<carla.libcarla.Waypoint object at 0x00000199A0D0EB70>, <carla.libcarla.Waypoint object at 0x00000199A0D0EBD0>), (<carla.libcarla.Waypoint object at 0x00000199A0D0EC30>, <carla.libcarla.Waypoint object at 0x00000199A0D0EC90>), (<carla.libcarla.Waypoint object at 0x00000199A0D0ECF0>, <carla.libcarla.Waypoint object at 0x00000199A0D0ED50>), (<carla.libcarla.Waypoint object at 0x00000199A0D0EDB0>, <carla.libcarla.Waypoint object at 0x00000199A0D0EE10>), (<carla.libcarla.Waypoint object at 0x00000199A0D0EE70>, <carla.libcarla.Waypoint object at 0x00000199A0D0EED0>), (<carla.libcarla.Waypoint object at 0x00000199A0D0EF30>, <carla.libcarla.Waypoint object at 0x00000199A0D0EF90>), (<carla.libcarla.Waypoint object at 0x00000199A0D0F030>, <carla.libcarla.Waypoint object at 0x00000199A0D0F090>), (<carla.libcarla.Waypoint object at 0x00000199A0D0F0F0>, <carla.libcarla.Waypoint object at 0x00000199A0D0F150>), (<carla.libcarla.Waypoint object at 0x00000199A0D0F1B0>, <carla.libcarla.Waypoint object at 0x00000199A0D0F210>), (<carla.libcarla.Waypoint object at 0x00000199A0D0F270>, <carla.libcarla.Waypoint object at 0x00000199A0D0F2D0>), (<carla.libcarla.Waypoint object at 0x00000199A0D0F330>, <carla.libcarla.Waypoint object at 0x00000199A0D0F390>), (<carla.libcarla.Waypoint object at 0x00000199A0D0F3F0>, <carla.libcarla.Waypoint object at 0x00000199A0D0F450>), (<carla.libcarla.Waypoint object at 0x00000199A0D0F4B0>, <carla.libcarla.Waypoint object at 0x00000199A0D0F510>), (<carla.libcarla.Waypoint object at 0x00000199A0D0F570>, <carla.libcarla.Waypoint object at 0x00000199A0D0F5D0>), (<carla.libcarla.Waypoint object at 0x00000199A0D0F630>, <carla.libcarla.Waypoint object at 0x00000199A0D0F690>), (<carla.libcarla.Waypoint object at 0x00000199A0D0F6F0>, <carla.libcarla.Waypoint object at 0x00000199A0D0F750>), (<carla.libcarla.Waypoint object at 0x00000199A0D0F7B0>, <carla.libcarla.Waypoint object at 0x00000199A0D0F810>), (<carla.libcarla.Waypoint object at 0x00000199A0D0F870>, <carla.libcarla.Waypoint object at 0x00000199A0D0F8D0>), (<carla.libcarla.Waypoint object at 0x00000199A0D0F930>, <carla.libcarla.Waypoint object at 0x00000199A0D0F990>), (<carla.libcarla.Waypoint object at 0x00000199A0D0F9F0>, <carla.libcarla.Waypoint object at 0x00000199A0D0FA50>), (<carla.libcarla.Waypoint object at 0x00000199A0D0FAB0>, <carla.libcarla.Waypoint object at 0x00000199A0D0FB10>), (<carla.libcarla.Waypoint object at 0x00000199A0D0FB70>, <carla.libcarla.Waypoint object at 0x00000199A0D0FBD0>), (<carla.libcarla.Waypoint object at 0x00000199A0D0FC30>, <carla.libcarla.Waypoint object at 0x00000199A0D0FC90>), (<carla.libcarla.Waypoint object at 0x00000199A0D0FCF0>, <carla.libcarla.Waypoint object at 0x00000199A0D0FD50>), (<carla.libcarla.Waypoint object at 0x00000199A0D0FDB0>, <carla.libcarla.Waypoint object at 0x00000199A0D0FE10>), (<carla.libcarla.Waypoint object at 0x00000199A0D0FE70>, <carla.libcarla.Waypoint object at 0x00000199A0D0FED0>), (<carla.libcarla.Waypoint object at 0x00000199A0D0FF30>, <carla.libcarla.Waypoint object at 0x00000199A0D0FF90>), (<carla.libcarla.Waypoint object at 0x00000199A0D10030>, <carla.libcarla.Waypoint object at 0x00000199A0D10090>), (<carla.libcarla.Waypoint object at 0x00000199A0D100F0>, <carla.libcarla.Waypoint object at 0x00000199A0D10150>), (<carla.libcarla.Waypoint object at 0x00000199A0D101B0>, <carla.libcarla.Waypoint object at 0x00000199A0D10210>), (<carla.libcarla.Waypoint object at 0x00000199A0D10270>, <carla.libcarla.Waypoint object at 0x00000199A0D102D0>), (<carla.libcarla.Waypoint object at 0x00000199A0D10330>, <carla.libcarla.Waypoint object at 0x00000199A0D10390>), (<carla.libcarla.Waypoint object at 0x00000199A0D103F0>, <carla.libcarla.Waypoint object at 0x00000199A0D10450>), (<carla.libcarla.Waypoint object at 0x00000199A0D104B0>, <carla.libcarla.Waypoint object at 0x00000199A0D10510>), (<carla.libcarla.Waypoint object at 0x00000199A0D10570>, <carla.libcarla.Waypoint object at 0x00000199A0D105D0>), (<carla.libcarla.Waypoint object at 0x00000199A0D10630>, <carla.libcarla.Waypoint object at 0x00000199A0D10690>), (<carla.libcarla.Waypoint object at 0x00000199A0D106F0>, <carla.libcarla.Waypoint object at 0x00000199A0D10750>), (<carla.libcarla.Waypoint object at 0x00000199A0D107B0>, <carla.libcarla.Waypoint object at 0x00000199A0D10810>), (<carla.libcarla.Waypoint object at 0x00000199A0D10870>, <carla.libcarla.Waypoint object at 0x00000199A0D108D0>), (<carla.libcarla.Waypoint object at 0x00000199A0D10930>, <carla.libcarla.Waypoint object at 0x00000199A0D10990>), (<carla.libcarla.Waypoint object at 0x00000199A0D109F0>, <carla.libcarla.Waypoint object at 0x00000199A0D10A50>), (<carla.libcarla.Waypoint object at 0x00000199A0D10AB0>, <carla.libcarla.Waypoint object at 0x00000199A0D10B10>), (<carla.libcarla.Waypoint object at 0x00000199A0D10B70>, <carla.libcarla.Waypoint object at 0x00000199A0D10BD0>), (<carla.libcarla.Waypoint object at 0x00000199A0D10C30>, <carla.libcarla.Waypoint object at 0x00000199A0D10C90>), (<carla.libcarla.Waypoint object at 0x00000199A0D10CF0>, <carla.libcarla.Waypoint object at 0x00000199A0D10D50>), (<carla.libcarla.Waypoint object at 0x00000199A0D10DB0>, <carla.libcarla.Waypoint object at 0x00000199A0D10E10>), (<carla.libcarla.Waypoint object at 0x00000199A0D10E70>, <carla.libcarla.Waypoint object at 0x00000199A0D10ED0>), (<carla.libcarla.Waypoint object at 0x00000199A0D10F30>, <carla.libcarla.Waypoint object at 0x00000199A0D10F90>), (<carla.libcarla.Waypoint object at 0x00000199A0D11030>, <carla.libcarla.Waypoint object at 0x00000199A0D11090>), (<carla.libcarla.Waypoint object at 0x00000199A0D110F0>, <carla.libcarla.Waypoint object at 0x00000199A0D11150>), (<carla.libcarla.Waypoint object at 0x00000199A0D111B0>, <carla.libcarla.Waypoint object at 0x00000199A0D11210>), (<carla.libcarla.Waypoint object at 0x00000199A0D11270>, <carla.libcarla.Waypoint object at 0x00000199A0D112D0>), (<carla.libcarla.Waypoint object at 0x00000199A0D11330>, <carla.libcarla.Waypoint object at 0x00000199A0D11390>), (<carla.libcarla.Waypoint object at 0x00000199A0D113F0>, <carla.libcarla.Waypoint object at 0x00000199A0D11450>), (<carla.libcarla.Waypoint object at 0x00000199A0D114B0>, <carla.libcarla.Waypoint object at 0x00000199A0D11510>), (<carla.libcarla.Waypoint object at 0x00000199A0D11570>, <carla.libcarla.Waypoint object at 0x00000199A0D115D0>), (<carla.libcarla.Waypoint object at 0x00000199A0D11630>, <carla.libcarla.Waypoint object at 0x00000199A0D11690>), (<carla.libcarla.Waypoint object at 0x00000199A0D116F0>, <carla.libcarla.Waypoint object at 0x00000199A0D11750>), (<carla.libcarla.Waypoint object at 0x00000199A0D117B0>, <carla.libcarla.Waypoint object at 0x00000199A0D11810>), (<carla.libcarla.Waypoint object at 0x00000199A0D11870>, <carla.libcarla.Waypoint object at 0x00000199A0D118D0>), (<carla.libcarla.Waypoint object at 0x00000199A0D11930>, <carla.libcarla.Waypoint object at 0x00000199A0D11990>), (<carla.libcarla.Waypoint object at 0x00000199A0D119F0>, <carla.libcarla.Waypoint object at 0x00000199A0D11A50>), (<carla.libcarla.Waypoint object at 0x00000199A0D11AB0>, <carla.libcarla.Waypoint object at 0x00000199A0D11B10>), (<carla.libcarla.Waypoint object at 0x00000199A0D11B70>, <carla.libcarla.Waypoint object at 0x00000199A0D11BD0>), (<carla.libcarla.Waypoint object at 0x00000199A0D11C30>, <carla.libcarla.Waypoint object at 0x00000199A0D11C90>), (<carla.libcarla.Waypoint object at 0x00000199A0D11CF0>, <carla.libcarla.Waypoint object at 0x00000199A0D11D50>), (<carla.libcarla.Waypoint object at 0x00000199A0D11DB0>, <carla.libcarla.Waypoint object at 0x00000199A0D11E10>), (<carla.libcarla.Waypoint object at 0x00000199A0D11E70>, <carla.libcarla.Waypoint object at 0x00000199A0D11ED0>), (<carla.libcarla.Waypoint object at 0x00000199A0D11F30>, <carla.libcarla.Waypoint object at 0x00000199A0D11F90>), (<carla.libcarla.Waypoint object at 0x00000199A0D12030>, <carla.libcarla.Waypoint object at 0x00000199A0D12090>), (<carla.libcarla.Waypoint object at 0x00000199A0D120F0>, <carla.libcarla.Waypoint object at 0x00000199A0D12150>), (<carla.libcarla.Waypoint object at 0x00000199A0D121B0>, <carla.libcarla.Waypoint object at 0x00000199A0D12210>), (<carla.libcarla.Waypoint object at 0x00000199A0D12270>, <carla.libcarla.Waypoint object at 0x00000199A0D122D0>), (<carla.libcarla.Waypoint object at 0x00000199A0D12330>, <carla.libcarla.Waypoint object at 0x00000199A0D12390>), (<carla.libcarla.Waypoint object at 0x00000199A0D123F0>, <carla.libcarla.Waypoint object at 0x00000199A0D12450>), (<carla.libcarla.Waypoint object at 0x00000199A0D124B0>, <carla.libcarla.Waypoint object at 0x00000199A0D12510>), (<carla.libcarla.Waypoint object at 0x00000199A0D12570>, <carla.libcarla.Waypoint object at 0x00000199A0D125D0>), (<carla.libcarla.Waypoint object at 0x00000199A0D12630>, <carla.libcarla.Waypoint object at 0x00000199A0D12690>), (<carla.libcarla.Waypoint object at 0x00000199A0D126F0>, <carla.libcarla.Waypoint object at 0x00000199A0D12750>), (<carla.libcarla.Waypoint object at 0x00000199A0D127B0>, <carla.libcarla.Waypoint object at 0x00000199A0D12810>), (<carla.libcarla.Waypoint object at 0x00000199A0D12870>, <carla.libcarla.Waypoint object at 0x00000199A0D128D0>), (<carla.libcarla.Waypoint object at 0x00000199A0D12930>, <carla.libcarla.Waypoint object at 0x00000199A0D12990>), (<carla.libcarla.Waypoint object at 0x00000199A0D129F0>, <carla.libcarla.Waypoint object at 0x00000199A0D12A50>), (<carla.libcarla.Waypoint object at 0x00000199A0D12AB0>, <carla.libcarla.Waypoint object at 0x00000199A0D12B10>), (<carla.libcarla.Waypoint object at 0x00000199A0D12B70>, <carla.libcarla.Waypoint object at 0x00000199A0D12BD0>), (<carla.libcarla.Waypoint object at 0x00000199A0D12C30>, <carla.libcarla.Waypoint object at 0x00000199A0D12C90>), (<carla.libcarla.Waypoint object at 0x00000199A0D12CF0>, <carla.libcarla.Waypoint object at 0x00000199A0D12D50>), (<carla.libcarla.Waypoint object at 0x00000199A0D12DB0>, <carla.libcarla.Waypoint object at 0x00000199A0D12E10>), (<carla.libcarla.Waypoint object at 0x00000199A0D12E70>, <carla.libcarla.Waypoint object at 0x00000199A0D12ED0>), (<carla.libcarla.Waypoint object at 0x00000199A0D12F30>, <carla.libcarla.Waypoint object at 0x00000199A0D12F90>), (<carla.libcarla.Waypoint object at 0x00000199A0D14030>, <carla.libcarla.Waypoint object at 0x00000199A0D14090>), (<carla.libcarla.Waypoint object at 0x00000199A0D140F0>, <carla.libcarla.Waypoint object at 0x00000199A0D14150>), (<carla.libcarla.Waypoint object at 0x00000199A0D141B0>, <carla.libcarla.Waypoint object at 0x00000199A0D14210>), (<carla.libcarla.Waypoint object at 0x00000199A0D14270>, <carla.libcarla.Waypoint object at 0x00000199A0D142D0>), (<carla.libcarla.Waypoint object at 0x00000199A0D14330>, <carla.libcarla.Waypoint object at 0x00000199A0D14390>), (<carla.libcarla.Waypoint object at 0x00000199A0D143F0>, <carla.libcarla.Waypoint object at 0x00000199A0D14450>), (<carla.libcarla.Waypoint object at 0x00000199A0D144B0>, <carla.libcarla.Waypoint object at 0x00000199A0D14510>), (<carla.libcarla.Waypoint object at 0x00000199A0D14570>, <carla.libcarla.Waypoint object at 0x00000199A0D145D0>), (<carla.libcarla.Waypoint object at 0x00000199A0D14630>, <carla.libcarla.Waypoint object at 0x00000199A0D14690>), (<carla.libcarla.Waypoint object at 0x00000199A0D146F0>, <carla.libcarla.Waypoint object at 0x00000199A0D14750>), (<carla.libcarla.Waypoint object at 0x00000199A0D147B0>, <carla.libcarla.Waypoint object at 0x00000199A0D14810>), (<carla.libcarla.Waypoint object at 0x00000199A0D14870>, <carla.libcarla.Waypoint object at 0x00000199A0D148D0>), (<carla.libcarla.Waypoint object at 0x00000199A0D14930>, <carla.libcarla.Waypoint object at 0x00000199A0D14990>), (<carla.libcarla.Waypoint object at 0x00000199A0D149F0>, <carla.libcarla.Waypoint object at 0x00000199A0D14A50>), (<carla.libcarla.Waypoint object at 0x00000199A0D14AB0>, <carla.libcarla.Waypoint object at 0x00000199A0D14B10>), (<carla.libcarla.Waypoint object at 0x00000199A0D14B70>, <carla.libcarla.Waypoint object at 0x00000199A0D14BD0>), (<carla.libcarla.Waypoint object at 0x00000199A0D14C30>, <carla.libcarla.Waypoint object at 0x00000199A0D14C90>), (<carla.libcarla.Waypoint object at 0x00000199A0D14CF0>, <carla.libcarla.Waypoint object at 0x00000199A0D14D50>), (<carla.libcarla.Waypoint object at 0x00000199A0D14DB0>, <carla.libcarla.Waypoint object at 0x00000199A0D14E10>), (<carla.libcarla.Waypoint object at 0x00000199A0D14E70>, <carla.libcarla.Waypoint object at 0x00000199A0D14ED0>), (<carla.libcarla.Waypoint object at 0x00000199A0D14F30>, <carla.libcarla.Waypoint object at 0x00000199A0D14F90>), (<carla.libcarla.Waypoint object at 0x00000199A0D15030>, <carla.libcarla.Waypoint object at 0x00000199A0D15090>), (<carla.libcarla.Waypoint object at 0x00000199A0D150F0>, <carla.libcarla.Waypoint object at 0x00000199A0D15150>), (<carla.libcarla.Waypoint object at 0x00000199A0D151B0>, <carla.libcarla.Waypoint object at 0x00000199A0D15210>), (<carla.libcarla.Waypoint object at 0x00000199A0D15270>, <carla.libcarla.Waypoint object at 0x00000199A0D152D0>), (<carla.libcarla.Waypoint object at 0x00000199A0D15330>, <carla.libcarla.Waypoint object at 0x00000199A0D15390>), (<carla.libcarla.Waypoint object at 0x00000199A0D153F0>, <carla.libcarla.Waypoint object at 0x00000199A0D15450>), (<carla.libcarla.Waypoint object at 0x00000199A0D154B0>, <carla.libcarla.Waypoint object at 0x00000199A0D15510>), (<carla.libcarla.Waypoint object at 0x00000199A0D15570>, <carla.libcarla.Waypoint object at 0x00000199A0D155D0>), (<carla.libcarla.Waypoint object at 0x00000199A0D15630>, <carla.libcarla.Waypoint object at 0x00000199A0D15690>), (<carla.libcarla.Waypoint object at 0x00000199A0D156F0>, <carla.libcarla.Waypoint object at 0x00000199A0D15750>), (<carla.libcarla.Waypoint object at 0x00000199A0D157B0>, <carla.libcarla.Waypoint object at 0x00000199A0D15810>), (<carla.libcarla.Waypoint object at 0x00000199A0D15870>, <carla.libcarla.Waypoint object at 0x00000199A0D158D0>), (<carla.libcarla.Waypoint object at 0x00000199A0D15930>, <carla.libcarla.Waypoint object at 0x00000199A0D15990>), (<carla.libcarla.Waypoint object at 0x00000199A0D159F0>, <carla.libcarla.Waypoint object at 0x00000199A0D15A50>), (<carla.libcarla.Waypoint object at 0x00000199A0D15AB0>, <carla.libcarla.Waypoint object at 0x00000199A0D15B10>), (<carla.libcarla.Waypoint object at 0x00000199A0D15B70>, <carla.libcarla.Waypoint object at 0x00000199A0D15BD0>), (<carla.libcarla.Waypoint object at 0x00000199A0D15C30>, <carla.libcarla.Waypoint object at 0x00000199A0D15C90>), (<carla.libcarla.Waypoint object at 0x00000199A0D15CF0>, <carla.libcarla.Waypoint object at 0x00000199A0D15D50>), (<carla.libcarla.Waypoint object at 0x00000199A0D15DB0>, <carla.libcarla.Waypoint object at 0x00000199A0D15E10>), (<carla.libcarla.Waypoint object at 0x00000199A0D15E70>, <carla.libcarla.Waypoint object at 0x00000199A0D15ED0>), (<carla.libcarla.Waypoint object at 0x00000199A0D15F30>, <carla.libcarla.Waypoint object at 0x00000199A0D15F90>), (<carla.libcarla.Waypoint object at 0x00000199A0D16030>, <carla.libcarla.Waypoint object at 0x00000199A0D16090>), (<carla.libcarla.Waypoint object at 0x00000199A0D160F0>, <carla.libcarla.Waypoint object at 0x00000199A0D16150>), (<carla.libcarla.Waypoint object at 0x00000199A0D161B0>, <carla.libcarla.Waypoint object at 0x00000199A0D16210>), (<carla.libcarla.Waypoint object at 0x00000199A0D16270>, <carla.libcarla.Waypoint object at 0x00000199A0D162D0>), (<carla.libcarla.Waypoint object at 0x00000199A0D16330>, <carla.libcarla.Waypoint object at 0x00000199A0D16390>), (<carla.libcarla.Waypoint object at 0x00000199A0D163F0>, <carla.libcarla.Waypoint object at 0x00000199A0D16450>), (<carla.libcarla.Waypoint object at 0x00000199A0D164B0>, <carla.libcarla.Waypoint object at 0x00000199A0D16510>), (<carla.libcarla.Waypoint object at 0x00000199A0D16570>, <carla.libcarla.Waypoint object at 0x00000199A0D165D0>), (<carla.libcarla.Waypoint object at 0x00000199A0D16630>, <carla.libcarla.Waypoint object at 0x00000199A0D16690>), (<carla.libcarla.Waypoint object at 0x00000199A0D166F0>, <carla.libcarla.Waypoint object at 0x00000199A0D16750>), (<carla.libcarla.Waypoint object at 0x00000199A0D167B0>, <carla.libcarla.Waypoint object at 0x00000199A0D16810>), (<carla.libcarla.Waypoint object at 0x00000199A0D16870>, <carla.libcarla.Waypoint object at 0x00000199A0D168D0>), (<carla.libcarla.Waypoint object at 0x00000199A0D16930>, <carla.libcarla.Waypoint object at 0x00000199A0D16990>), (<carla.libcarla.Waypoint object at 0x00000199A0D169F0>, <carla.libcarla.Waypoint object at 0x00000199A0D16A50>), (<carla.libcarla.Waypoint object at 0x00000199A0D16AB0>, <carla.libcarla.Waypoint object at 0x00000199A0D16B10>), (<carla.libcarla.Waypoint object at 0x00000199A0D16B70>, <carla.libcarla.Waypoint object at 0x00000199A0D16BD0>), (<carla.libcarla.Waypoint object at 0x00000199A0D16C30>, <carla.libcarla.Waypoint object at 0x00000199A0D16C90>), (<carla.libcarla.Waypoint object at 0x00000199A0D16CF0>, <carla.libcarla.Waypoint object at 0x00000199A0D16D50>), (<carla.libcarla.Waypoint object at 0x00000199A0D16DB0>, <carla.libcarla.Waypoint object at 0x00000199A0D16E10>), (<carla.libcarla.Waypoint object at 0x00000199A0D16E70>, <carla.libcarla.Waypoint object at 0x00000199A0D16ED0>), (<carla.libcarla.Waypoint object at 0x00000199A0D16F30>, <carla.libcarla.Waypoint object at 0x00000199A0D16F90>), (<carla.libcarla.Waypoint object at 0x00000199A0D18030>, <carla.libcarla.Waypoint object at 0x00000199A0D18090>), (<carla.libcarla.Waypoint object at 0x00000199A0D180F0>, <carla.libcarla.Waypoint object at 0x00000199A0D18150>), (<carla.libcarla.Waypoint object at 0x00000199A0D181B0>, <carla.libcarla.Waypoint object at 0x00000199A0D18210>), (<carla.libcarla.Waypoint object at 0x00000199A0D18270>, <carla.libcarla.Waypoint object at 0x00000199A0D182D0>), (<carla.libcarla.Waypoint object at 0x00000199A0D18330>, <carla.libcarla.Waypoint object at 0x00000199A0D18390>), (<carla.libcarla.Waypoint object at 0x00000199A0D183F0>, <carla.libcarla.Waypoint object at 0x00000199A0D18450>), (<carla.libcarla.Waypoint object at 0x00000199A0D184B0>, <carla.libcarla.Waypoint object at 0x00000199A0D18510>), (<carla.libcarla.Waypoint object at 0x00000199A0D18570>, <carla.libcarla.Waypoint object at 0x00000199A0D185D0>), (<carla.libcarla.Waypoint object at 0x00000199A0D18630>, <carla.libcarla.Waypoint object at 0x00000199A0D18690>), (<carla.libcarla.Waypoint object at 0x00000199A0D186F0>, <carla.libcarla.Waypoint object at 0x00000199A0D18750>), (<carla.libcarla.Waypoint object at 0x00000199A0D187B0>, <carla.libcarla.Waypoint object at 0x00000199A0D18810>), (<carla.libcarla.Waypoint object at 0x00000199A0D18870>, <carla.libcarla.Waypoint object at 0x00000199A0D188D0>), (<carla.libcarla.Waypoint object at 0x00000199A0D18930>, <carla.libcarla.Waypoint object at 0x00000199A0D18990>), (<carla.libcarla.Waypoint object at 0x00000199A0D189F0>, <carla.libcarla.Waypoint object at 0x00000199A0D18A50>), (<carla.libcarla.Waypoint object at 0x00000199A0D18AB0>, <carla.libcarla.Waypoint object at 0x00000199A0D18B10>), (<carla.libcarla.Waypoint object at 0x00000199A0D18B70>, <carla.libcarla.Waypoint object at 0x00000199A0D18BD0>), (<carla.libcarla.Waypoint object at 0x00000199A0D18C30>, <carla.libcarla.Waypoint object at 0x00000199A0D18C90>), (<carla.libcarla.Waypoint object at 0x00000199A0D18CF0>, <carla.libcarla.Waypoint object at 0x00000199A0D18D50>), (<carla.libcarla.Waypoint object at 0x00000199A0D18DB0>, <carla.libcarla.Waypoint object at 0x00000199A0D18E10>), (<carla.libcarla.Waypoint object at 0x00000199A0D18E70>, <carla.libcarla.Waypoint object at 0x00000199A0D18ED0>), (<carla.libcarla.Waypoint object at 0x00000199A0D18F30>, <carla.libcarla.Waypoint object at 0x00000199A0D18F90>), (<carla.libcarla.Waypoint object at 0x00000199A0D19030>, <carla.libcarla.Waypoint object at 0x00000199A0D19090>), (<carla.libcarla.Waypoint object at 0x00000199A0D190F0>, <carla.libcarla.Waypoint object at 0x00000199A0D19150>), (<carla.libcarla.Waypoint object at 0x00000199A0D191B0>, <carla.libcarla.Waypoint object at 0x00000199A0D19210>), (<carla.libcarla.Waypoint object at 0x00000199A0D19270>, <carla.libcarla.Waypoint object at 0x00000199A0D192D0>), (<carla.libcarla.Waypoint object at 0x00000199A0D19330>, <carla.libcarla.Waypoint object at 0x00000199A0D19390>), (<carla.libcarla.Waypoint object at 0x00000199A0D193F0>, <carla.libcarla.Waypoint object at 0x00000199A0D19450>), (<carla.libcarla.Waypoint object at 0x00000199A0D194B0>, <carla.libcarla.Waypoint object at 0x00000199A0D19510>), (<carla.libcarla.Waypoint object at 0x00000199A0D19570>, <carla.libcarla.Waypoint object at 0x00000199A0D195D0>), (<carla.libcarla.Waypoint object at 0x00000199A0D19630>, <carla.libcarla.Waypoint object at 0x00000199A0D19690>), (<carla.libcarla.Waypoint object at 0x00000199A0D196F0>, <carla.libcarla.Waypoint object at 0x00000199A0D19750>), (<carla.libcarla.Waypoint object at 0x00000199A0D197B0>, <carla.libcarla.Waypoint object at 0x00000199A0D19810>), (<carla.libcarla.Waypoint object at 0x00000199A0D19870>, <carla.libcarla.Waypoint object at 0x00000199A0D198D0>), (<carla.libcarla.Waypoint object at 0x00000199A0D19930>, <carla.libcarla.Waypoint object at 0x00000199A0D19990>), (<carla.libcarla.Waypoint object at 0x00000199A0D199F0>, <carla.libcarla.Waypoint object at 0x00000199A0D19A50>), (<carla.libcarla.Waypoint object at 0x00000199A0D19AB0>, <carla.libcarla.Waypoint object at 0x00000199A0D19B10>), (<carla.libcarla.Waypoint object at 0x00000199A0D19B70>, <carla.libcarla.Waypoint object at 0x00000199A0D19BD0>), (<carla.libcarla.Waypoint object at 0x00000199A0D19C30>, <carla.libcarla.Waypoint object at 0x00000199A0D19C90>), (<carla.libcarla.Waypoint object at 0x00000199A0D19CF0>, <carla.libcarla.Waypoint object at 0x00000199A0D19D50>), (<carla.libcarla.Waypoint object at 0x00000199A0D19DB0>, <carla.libcarla.Waypoint object at 0x00000199A0D19E10>), (<carla.libcarla.Waypoint object at 0x00000199A0D19E70>, <carla.libcarla.Waypoint object at 0x00000199A0D19ED0>), (<carla.libcarla.Waypoint object at 0x00000199A0D19F30>, <carla.libcarla.Waypoint object at 0x00000199A0D19F90>), (<carla.libcarla.Waypoint object at 0x00000199A0D1A030>, <carla.libcarla.Waypoint object at 0x00000199A0D1A090>), (<carla.libcarla.Waypoint object at 0x00000199A0D1A0F0>, <carla.libcarla.Waypoint object at 0x00000199A0D1A150>), (<carla.libcarla.Waypoint object at 0x00000199A0D1A1B0>, <carla.libcarla.Waypoint object at 0x00000199A0D1A210>), (<carla.libcarla.Waypoint object at 0x00000199A0D1A270>, <carla.libcarla.Waypoint object at 0x00000199A0D1A2D0>), (<carla.libcarla.Waypoint object at 0x00000199A0D1A330>, <carla.libcarla.Waypoint object at 0x00000199A0D1A390>), (<carla.libcarla.Waypoint object at 0x00000199A0D1A3F0>, <carla.libcarla.Waypoint object at 0x00000199A0D1A450>), (<carla.libcarla.Waypoint object at 0x00000199A0D1A4B0>, <carla.libcarla.Waypoint object at 0x00000199A0D1A510>), (<carla.libcarla.Waypoint object at 0x00000199A0D1A570>, <carla.libcarla.Waypoint object at 0x00000199A0D1A5D0>), (<carla.libcarla.Waypoint object at 0x00000199A0D1A630>, <carla.libcarla.Waypoint object at 0x00000199A0D1A690>), (<carla.libcarla.Waypoint object at 0x00000199A0D1A6F0>, <carla.libcarla.Waypoint object at 0x00000199A0D1A750>), (<carla.libcarla.Waypoint object at 0x00000199A0D1A7B0>, <carla.libcarla.Waypoint object at 0x00000199A0D1A810>), (<carla.libcarla.Waypoint object at 0x00000199A0D1A870>, <carla.libcarla.Waypoint object at 0x00000199A0D1A8D0>), (<carla.libcarla.Waypoint object at 0x00000199A0D1A930>, <carla.libcarla.Waypoint object at 0x00000199A0D1A990>), (<carla.libcarla.Waypoint object at 0x00000199A0D1A9F0>, <carla.libcarla.Waypoint object at 0x00000199A0D1AA50>)]\n"
     ]
    }
   ],
   "source": [
    "print(roads)"
   ]
  },
  {
   "cell_type": "code",
   "execution_count": 16,
   "metadata": {},
   "outputs": [
    {
     "name": "stdout",
     "output_type": "stream",
     "text": [
      "Waypoint(Transform(Location(x=64.677612, y=-7.514839, z=0.057041), Rotation(pitch=-0.155394, yaw=-179.144196, roll=0.000000)))\n"
     ]
    }
   ],
   "source": [
    "print(roads[0][0])"
   ]
  },
  {
   "cell_type": "code",
   "execution_count": 17,
   "metadata": {},
   "outputs": [
    {
     "data": {
      "text/plain": [
       "503"
      ]
     },
     "execution_count": 17,
     "metadata": {},
     "output_type": "execute_result"
    }
   ],
   "source": [
    "len(roads)"
   ]
  },
  {
   "cell_type": "code",
   "execution_count": 18,
   "metadata": {},
   "outputs": [],
   "source": [
    "# making a road, from one position to another\n",
    "# import some code coming with the sim\n",
    "\n",
    "import sys\n",
    "sys.path.append('D:\\CARLA_0.9.11\\PythonAPI\\carla')\n",
    "from agents.navigation.global_route_planner import GlobalRoutePlanner"
   ]
  },
  {
   "cell_type": "code",
   "execution_count": 52,
   "metadata": {},
   "outputs": [],
   "source": [
    "# utility script to destruction\n",
    "\n",
    "vehicles = world.get_actors().filter('vehicle.*')\n",
    "for vehicle in vehicles:\n",
    "    vehicle.destroy()\n",
    "\n",
    "# for sensor in world.get_actors('*sensor*'):\n",
    "sensors = world.get_actors().filter('sensor.*')\n",
    "for sensor in sensors:\n",
    "    sensor.destroy()"
   ]
  },
  {
   "cell_type": "code",
   "execution_count": 53,
   "metadata": {},
   "outputs": [],
   "source": [
    "# now we define 2 cars\n",
    "vehicle1_bp = world.get_blueprint_library().filter('*vehicle*')[0]\n",
    "vehicle2_bp = world.get_blueprint_library().filter('*vehicle*')[3]\n",
    "\n",
    "# start first car in already defined start point\n",
    "v1 = world.try_spawn_actor(vehicle1_bp, start_point)"
   ]
  },
  {
   "cell_type": "code",
   "execution_count": 54,
   "metadata": {},
   "outputs": [],
   "source": [
    "# tweak spectator position to watch the show\n",
    "\n",
    "spectator = world.get_spectator()\n",
    "spawn_points = world.get_map().get_spawn_points()\n",
    "start_point = spawn_points[0]\n",
    "\n",
    "spectator_pos = carla.Transform(start_point.location + carla.Location(x=20,y=10,z=4),\n",
    "                                carla.Rotation(yaw = start_point.rotation.yaw -250))\n",
    "\n",
    "spectator.set_transform(spectator_pos)"
   ]
  },
  {
   "cell_type": "code",
   "execution_count": 55,
   "metadata": {},
   "outputs": [],
   "source": [
    "# drop the v2 the sky - watch what happens after\n",
    "\n",
    "#spawn it first somewhere else\n",
    "mini = world.try_spawn_actor(vehicle2_bp, spawn_points[10])\n",
    "\n",
    "mini_pos = carla.Transform(start_point.location + carla.Location(x=0,y=-2,z=10),\n",
    "                            carla.Rotation(yaw = start_point.rotation.yaw - 50))\n",
    "mini.set_transform(mini_pos)"
   ]
  },
  {
   "cell_type": "code",
   "execution_count": 47,
   "metadata": {},
   "outputs": [
    {
     "name": "stdout",
     "output_type": "stream",
     "text": [
      "Actor(id=92, type=vehicle.chevrolet.impala)\n"
     ]
    }
   ],
   "source": [
    "print(v1)"
   ]
  },
  {
   "cell_type": "code",
   "execution_count": 56,
   "metadata": {},
   "outputs": [],
   "source": [
    "v1.set_autopilot(True)"
   ]
  },
  {
   "cell_type": "code",
   "execution_count": 61,
   "metadata": {},
   "outputs": [
    {
     "name": "stdout",
     "output_type": "stream",
     "text": [
      "Transform(Location(x=-37.954727, y=130.721115, z=-0.009507), Rotation(pitch=0.004720, yaw=177.414658, roll=-0.001282))\n"
     ]
    }
   ],
   "source": [
    "v1_pos = v1.get_transform()\n",
    "print(v1_pos)"
   ]
  },
  {
   "cell_type": "code",
   "execution_count": 62,
   "metadata": {},
   "outputs": [
    {
     "ename": "ArgumentError",
     "evalue": "Python argument types in\n    Transform.__init__(Transform, Transform)\ndid not match C++ signature:\n    __init__(struct _object * __ptr64, class carla::geom::Location location=<carla.libcarla.Location object at 0x00000199A0C4AAB0>, class carla::geom::Rotation rotation=<carla.libcarla.Rotation object at 0x00000199A0C4AB10>)\n    __init__(struct _object * __ptr64)",
     "output_type": "error",
     "traceback": [
      "\u001b[1;31m---------------------------------------------------------------------------\u001b[0m",
      "\u001b[1;31mArgumentError\u001b[0m                             Traceback (most recent call last)",
      "\u001b[1;32m~\\AppData\\Local\\Temp\\ipykernel_14808\\4044628272.py\u001b[0m in \u001b[0;36m<module>\u001b[1;34m\u001b[0m\n\u001b[0;32m      1\u001b[0m \u001b[0manother\u001b[0m \u001b[1;33m=\u001b[0m \u001b[0mworld\u001b[0m\u001b[1;33m.\u001b[0m\u001b[0mtry_spawn_actor\u001b[0m\u001b[1;33m(\u001b[0m\u001b[0mvehicle2_bp\u001b[0m\u001b[1;33m,\u001b[0m \u001b[0mspawn_points\u001b[0m\u001b[1;33m[\u001b[0m\u001b[1;36m10\u001b[0m\u001b[1;33m]\u001b[0m\u001b[1;33m)\u001b[0m\u001b[1;33m\u001b[0m\u001b[1;33m\u001b[0m\u001b[0m\n\u001b[1;32m----> 2\u001b[1;33m \u001b[0manother_pos\u001b[0m \u001b[1;33m=\u001b[0m \u001b[0mcarla\u001b[0m\u001b[1;33m.\u001b[0m\u001b[0mTransform\u001b[0m\u001b[1;33m(\u001b[0m\u001b[0mv1_pos\u001b[0m\u001b[1;33m)\u001b[0m\u001b[1;33m\u001b[0m\u001b[1;33m\u001b[0m\u001b[0m\n\u001b[0m\u001b[0;32m      3\u001b[0m \u001b[1;33m\u001b[0m\u001b[0m\n\u001b[0;32m      4\u001b[0m \u001b[0manother\u001b[0m\u001b[1;33m.\u001b[0m\u001b[0mset_transform\u001b[0m\u001b[1;33m(\u001b[0m\u001b[0manother_pos\u001b[0m\u001b[1;33m)\u001b[0m\u001b[1;33m\u001b[0m\u001b[1;33m\u001b[0m\u001b[0m\n",
      "\u001b[1;31mArgumentError\u001b[0m: Python argument types in\n    Transform.__init__(Transform, Transform)\ndid not match C++ signature:\n    __init__(struct _object * __ptr64, class carla::geom::Location location=<carla.libcarla.Location object at 0x00000199A0C4AAB0>, class carla::geom::Rotation rotation=<carla.libcarla.Rotation object at 0x00000199A0C4AB10>)\n    __init__(struct _object * __ptr64)"
     ]
    }
   ],
   "source": [
    "another = world.try_spawn_actor(vehicle2_bp, spawn_points[10])\n",
    "another_pos = carla.Transform(v1_pos)\n",
    "\n",
    "another.set_transform(another_pos)"
   ]
  },
  {
   "cell_type": "code",
   "execution_count": null,
   "metadata": {},
   "outputs": [],
   "source": []
  }
 ],
 "metadata": {
  "kernelspec": {
   "display_name": "opencda",
   "language": "python",
   "name": "python3"
  },
  "language_info": {
   "codemirror_mode": {
    "name": "ipython",
    "version": 3
   },
   "file_extension": ".py",
   "mimetype": "text/x-python",
   "name": "python",
   "nbconvert_exporter": "python",
   "pygments_lexer": "ipython3",
   "version": "3.7.12"
  }
 },
 "nbformat": 4,
 "nbformat_minor": 2
}
